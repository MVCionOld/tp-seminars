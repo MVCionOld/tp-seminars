{
 "cells": [
  {
   "cell_type": "code",
   "execution_count": 1,
   "id": "working-workplace",
   "metadata": {},
   "outputs": [],
   "source": [
    "from IPython.core.interactiveshell import InteractiveShell\n",
    "InteractiveShell.ast_node_interactivity = \"all\""
   ]
  },
  {
   "cell_type": "markdown",
   "id": "severe-worthy",
   "metadata": {},
   "source": [
    "# Поведенческие паттерны  \n",
    "  \n",
    "  \n",
    "### Определяют алгоритмы и способы реализации взаимодействия различных объектов и классов."
   ]
  },
  {
   "cell_type": "markdown",
   "id": "cellular-africa",
   "metadata": {},
   "source": [
    "* __Chain of Responsibility__\n",
    "* Command\n",
    "* __Iterator__\n",
    "* Mediator\n",
    "* Memento\n",
    "* Observer\n",
    "* State\n",
    "* __Strategy__\n",
    "* __Template Method__\n",
    "* Visitor"
   ]
  },
  {
   "cell_type": "markdown",
   "id": "sorted-singing",
   "metadata": {},
   "source": [
    "---"
   ]
  },
  {
   "cell_type": "markdown",
   "id": "subtle-python",
   "metadata": {},
   "source": [
    "## Iterator"
   ]
  },
  {
   "cell_type": "markdown",
   "id": "american-looking",
   "metadata": {},
   "source": [
    "### Задача  \n",
    "  \n",
    "Вам необходимо итерироваться по контейнеру. Порядок обхода для одной и той же коллекции может быть разным (прямой/обратный, по расположению в памяти, по линейному порядку, по заранее определенному алгоритму)."
   ]
  },
  {
   "cell_type": "markdown",
   "id": "going-variety",
   "metadata": {},
   "source": [
    "### Решение  \n",
    "  \n",
    "Вынесем поведение обхода коллекции из самой коллекции в отдельный класс.  \n",
    "\n",
    "Объект-итератор будет отслеживать состояние обхода, текущую позицию в коллекции и сколько элементов ещё осталось обойти. Одну и ту же коллекцию смогут одновременно обходить различные итераторы, а сама коллекция не будет даже знать об этом.  \n",
    "  \n",
    "К тому же, если вам понадобится добавить новый способ обхода, вы сможете создать отдельный класс итератора, не изменяя существующий код коллекции."
   ]
  },
  {
   "cell_type": "markdown",
   "id": "transparent-transition",
   "metadata": {},
   "source": [
    "![iterator](uml/iterator.png)"
   ]
  },
  {
   "cell_type": "markdown",
   "id": "ranging-beauty",
   "metadata": {},
   "source": [
    "### Плюсы\n",
    "\n",
    " * упрощает классы хранения данных\n",
    " * позволяет реализовать различные способы обхода структуры данных\n",
    " * позволяет одновременно перемещаться по структуре данных в разные стороны\n",
    "\n",
    "### Минусы\n",
    "\n",
    " * не оправдан, если можно обойтись простым циклом (если есть обращение по индексу за О(1)!)"
   ]
  },
  {
   "cell_type": "markdown",
   "id": "sustained-mediterranean",
   "metadata": {},
   "source": [
    "---"
   ]
  },
  {
   "cell_type": "markdown",
   "id": "explicit-expense",
   "metadata": {},
   "source": [
    "## Chain of Responsibility"
   ]
  },
  {
   "cell_type": "markdown",
   "id": "adolescent-puppy",
   "metadata": {},
   "source": [
    "### Задачи (проблемы). Примеры  \n",
    "\n",
    " 1. Вы реализуете систему авторизации на сайте. Есть несколько уровней доступа: \"guest\", \"authorized guest\", \"editor\", \"admin\". Необходимо последовательно предоставлять возможность “повысить” уровень доступа или заканчивать проверку, когда посетитель достиг своего уровня. Получается пайплайн захода на сайт является цепочкой _верификаций_.\n",
    " 2. Пайплайн сборки вашего кода: запуск статического анализатора, разного рода хуки и линтеры, запуск тестов, непосредственная сборка. Также здесь может быть встроена нотификация об (не)успешной сборке, выгрузка артефактов (архив с бинарником программы) в общее хранилище, накат дистрибутива на тестовые машины с запуском системных тестов и тд и тп.\n",
    " 3. Преобразование видео: предобработки, наложение фильтров, параллельная конвертация в MP4, AVI, MOV.\n",
    " \n",
    "Все эти задачи представляют собой некое квазилинейное поведение с поочередными действиями.  \n",
    "  \n",
    " * Надо обработать несколько запросов - но неизвестны обработчики заранее (можем динамически их выполнять).\n",
    " * Важно задать порядок обработки.\n",
    " * Набор объектов для обработки должен задаваться динамически."
   ]
  },
  {
   "cell_type": "markdown",
   "id": "norwegian-model",
   "metadata": {},
   "source": [
    "### Решение  \n",
    "  \n",
    "Давайте превратим отдельные этапы в объекты классов. В нашем случае каждая проверка переедет в отдельный класс с единственным методом выполнения. Данные запроса, над которым происходит проверка, будут передаваться в метод как аргументы.  \n",
    "\n",
    "Давайте свяжем объекты обработчиков в одну цепь. Каждый будет иметь указатель/ссылку на следующий обработчик в цепи. Таким образом, во время обработки можем по необходимости передать обработку следующему объекту в цепочке.  \n",
    "  \n",
    "Обработчик не обязательно должен передавать запрос дальше, причём эта особенность может быть использована по-разному."
   ]
  },
  {
   "cell_type": "markdown",
   "id": "improving-brisbane",
   "metadata": {},
   "source": [
    "![chain-of-responsibility](uml/chain-of-responsibility.png)"
   ]
  },
  {
   "cell_type": "markdown",
   "id": "trying-pension",
   "metadata": {},
   "source": [
    "__Вопрос__: на какой другой паттерн по своей схеме похож Chain of Responsibility?"
   ]
  },
  {
   "cell_type": "markdown",
   "id": "tight-budget",
   "metadata": {},
   "source": [
    "Не имеет базового объекта и может прервать выполнение на любом шаге.  \n",
    "Допускается нелинейность, в отдельных случаях саморекурсивная обработка отдельного подмножества шагов."
   ]
  },
  {
   "cell_type": "code",
   "execution_count": 2,
   "id": "worst-frame",
   "metadata": {},
   "outputs": [],
   "source": [
    "from abc import ABC\n",
    "from abc import abstractmethod\n",
    "from typing import Any\n",
    "from typing import Optional\n",
    "\n",
    "\n",
    "class Handler(ABC):\n",
    "\n",
    "    @abstractmethod\n",
    "    def set_next(self, handler: \"Handler\") -> \"Handler\":\n",
    "        pass\n",
    "\n",
    "    @abstractmethod\n",
    "    def handle(self, request) -> Optional[str]:\n",
    "        pass\n",
    "\n",
    "\n",
    "class AbstractHandler(Handler):\n",
    "\n",
    "    _next_handler: Handler = None\n",
    "\n",
    "    def set_next(self, handler: Handler) -> Handler:\n",
    "        self._next_handler = handler\n",
    "        return handler\n",
    "\n",
    "    @abstractmethod\n",
    "    def handle(self, request: Any) -> str:\n",
    "        if self._next_handler:\n",
    "            return self._next_handler.handle(request)\n",
    "        return None\n",
    "\n",
    "\n",
    "class GuestHandler(AbstractHandler):\n",
    "    def handle(self, request: Any) -> str:\n",
    "        if request == \"guest\":\n",
    "            return f\"Hello, Anonymous Guest!\"\n",
    "        else:\n",
    "            return super().handle(request)\n",
    "\n",
    "\n",
    "class AuthorizedGuestHandler(AbstractHandler):\n",
    "    def handle(self, request: Any) -> str:\n",
    "        login = input(\"Input login: \")\n",
    "        password = input(\"Input password: \")\n",
    "        if login == \"user\" and password == \"qwerty\":  # dummy security\n",
    "            if request == \"authorized guest\":\n",
    "                return f\"Hello, {login}!\"\n",
    "            else:\n",
    "                return super().handle(request)\n",
    "        else:\n",
    "            return \"Authorization failed!\"\n",
    "\n",
    "\n",
    "class EditorHandler(AbstractHandler):\n",
    "    def handle(self, request: Any) -> str:\n",
    "        secret_phrase = input(\"Input secret phrase: \")\n",
    "        if secret_phrase == \"secret\":\n",
    "            if request == \"editor\":\n",
    "                return f\"Hello, Editor!\"\n",
    "            else:\n",
    "                return super().handle(request)\n",
    "        else:\n",
    "            return \"Secret phrase is incorrect!\"\n",
    "\n",
    "        \n",
    "class AdminHandler(AbstractHandler):\n",
    "    def handle(self, request: Any) -> str:\n",
    "        sms_token = input(\"Input sms token: \")\n",
    "        if sms_token == \"1111\":\n",
    "            if request == \"admin\":\n",
    "                return f\"Hello, Admin!\"\n",
    "            else:\n",
    "                return super().handle(request)\n",
    "        else:\n",
    "            return \"Token is incorrect!\"\n"
   ]
  },
  {
   "cell_type": "code",
   "execution_count": 3,
   "id": "plain-slave",
   "metadata": {},
   "outputs": [
    {
     "data": {
      "text/plain": [
       "<__main__.AdminHandler at 0x7f28387292b0>"
      ]
     },
     "execution_count": 3,
     "metadata": {},
     "output_type": "execute_result"
    }
   ],
   "source": [
    "guest_handler = GuestHandler()\n",
    "authorized_guest_handler = AuthorizedGuestHandler()\n",
    "editor_handler = EditorHandler()\n",
    "admin_handler = AdminHandler()\n",
    "\n",
    "guest_handler \\\n",
    "    .set_next(authorized_guest_handler) \\\n",
    "    .set_next(editor_handler) \\\n",
    "    .set_next(admin_handler)"
   ]
  },
  {
   "cell_type": "code",
   "execution_count": 4,
   "id": "statutory-plymouth",
   "metadata": {},
   "outputs": [
    {
     "data": {
      "text/plain": [
       "'Hello, Anonymous Guest!'"
      ]
     },
     "execution_count": 4,
     "metadata": {},
     "output_type": "execute_result"
    }
   ],
   "source": [
    "# try guest\n",
    "\n",
    "guest_handler.handle(\"guest\")"
   ]
  },
  {
   "cell_type": "code",
   "execution_count": 5,
   "id": "attractive-merchandise",
   "metadata": {},
   "outputs": [
    {
     "name": "stdout",
     "output_type": "stream",
     "text": [
      "Input login: user\n",
      "Input password: qwerty\n"
     ]
    },
    {
     "data": {
      "text/plain": [
       "'Hello, user!'"
      ]
     },
     "execution_count": 5,
     "metadata": {},
     "output_type": "execute_result"
    }
   ],
   "source": [
    "# try authorized guest\n",
    "\n",
    "guest_handler.handle(\"authorized guest\")"
   ]
  },
  {
   "cell_type": "code",
   "execution_count": 6,
   "id": "russian-light",
   "metadata": {},
   "outputs": [
    {
     "name": "stdout",
     "output_type": "stream",
     "text": [
      "Input login: user\n",
      "Input password: qwerty\n",
      "Input secret phrase: nonsecret\n"
     ]
    },
    {
     "data": {
      "text/plain": [
       "'Secret phrase is incorrect!'"
      ]
     },
     "execution_count": 6,
     "metadata": {},
     "output_type": "execute_result"
    }
   ],
   "source": [
    "# try editor\n",
    "\n",
    "guest_handler.handle(\"editor\")"
   ]
  },
  {
   "cell_type": "code",
   "execution_count": 7,
   "id": "funky-duncan",
   "metadata": {},
   "outputs": [
    {
     "name": "stdout",
     "output_type": "stream",
     "text": [
      "Input login: user\n",
      "Input password: qwerty\n",
      "Input secret phrase: secret\n",
      "Input sms token: 1111\n"
     ]
    },
    {
     "data": {
      "text/plain": [
       "'Hello, Admin!'"
      ]
     },
     "execution_count": 7,
     "metadata": {},
     "output_type": "execute_result"
    }
   ],
   "source": [
    "# try admin\n",
    "\n",
    "guest_handler.handle(\"admin\")"
   ]
  },
  {
   "cell_type": "markdown",
   "id": "short-warning",
   "metadata": {},
   "source": [
    "### Плюсы\n",
    "\n",
    " * уменьшение зависимости между клиентом и обработчиком\n",
    " * каждая команда - отдельная ответственность\n",
    " * для того, чтобы дополнить поведение команды, можно применить наследование, а не изменять текущий код\n",
    " \n",
    "Итого: реализует __Single Responsibility Principle__ и __Open-Closed Principle__.\n",
    "\n",
    "### Минусы\n",
    "\n",
    " * какой-то запрос может остаться невыполненным (какие-то обработчики будут unreachable и тд)"
   ]
  },
  {
   "cell_type": "markdown",
   "id": "mineral-shepherd",
   "metadata": {},
   "source": [
    "---"
   ]
  },
  {
   "cell_type": "markdown",
   "id": "alleged-liechtenstein",
   "metadata": {},
   "source": [
    "## Strategy"
   ]
  },
  {
   "cell_type": "markdown",
   "id": "civil-weather",
   "metadata": {},
   "source": [
    "### Задачи (проблемы). Примеры  \n",
    "  1. Вы реализуете средство визуальной генерации нейросетей. Пользователь загружает собственный датасет, настраивает программу и запускает её на вашем сервере. При этом все шаги выполнения одинаковые, кроме, непосредственно, алгоритма обучения, сгенерированного пользователем.\n",
    "  2. Прокладывание маршрутов в GPS между точкой А и точкой Б с помощию различных алгоритмов: Дейкстры, Форда-Фалкерсона, А*, Ida-Star и тд и тп.\n",
    "\n",
    "**Случаи применения**\n",
    " * Надо использовать разные вариации одного алгоритма.\n",
    " * Есть множество похожих классов, отличающихся некоторым поведением.\n",
    " * Не хотим сильно раскрывать реализации алгоритмов.\n",
    " * Ветка - вариация алгоритма: чтобы не писать гору if/else или switch-ей."
   ]
  },
  {
   "cell_type": "markdown",
   "id": "invisible-royal",
   "metadata": {},
   "source": [
    "### Решение  \n",
    "\n",
    "Необходимо выделить определенные алгоритмы в отдельные классы, которые можно будет подменять для разных экземпляров\n",
    "классов."
   ]
  },
  {
   "cell_type": "markdown",
   "id": "moderate-italic",
   "metadata": {},
   "source": [
    "![strategy](uml/strategy.png)"
   ]
  },
  {
   "cell_type": "code",
   "execution_count": 8,
   "id": "separate-garbage",
   "metadata": {},
   "outputs": [],
   "source": [
    "from abc import ABC\n",
    "from abc import abstractmethod\n",
    "import sys\n",
    "\n",
    "\n",
    "class Strategy(ABC):\n",
    "    @abstractmethod\n",
    "    def execute(self):\n",
    "        pass\n",
    "\n",
    "\n",
    "class Context:\n",
    "    \"\"\"\n",
    "    Контекст определяет интерфейс, представляющий интерес для клиентов.\n",
    "    \"\"\"\n",
    "    def __init__(self, strategy: Strategy):\n",
    "        self._strategy = strategy\n",
    "\n",
    "    @property\n",
    "    def strategy(self) -> Strategy:\n",
    "        return self._strategy\n",
    "\n",
    "    @strategy.setter\n",
    "    def strategy(self, strategy: Strategy):\n",
    "        self._strategy = strategy\n",
    "\n",
    "    def do_something(self):\n",
    "        print(\"Before Strategy call\")\n",
    "        self.strategy.execute()\n",
    "        print(\"After Strategy call\", file=sys.stderr)\n",
    "        \n",
    "        \n",
    "class HelloWorldStrategy(Strategy):\n",
    "    def execute(self):\n",
    "        print(\"Hello, World!\", file=sys.stderr)\n",
    "        \n",
    "        \n",
    "class Hello021Strategy(Strategy):\n",
    "    def execute(self):\n",
    "        print(\"Hello, Б05-021!\", file=sys.stderr)\n",
    "        \n",
    "        \n",
    "class Hello022Strategy(Strategy):\n",
    "    def execute(self):\n",
    "        print(\"Hello, Б05-022!\", file=sys.stderr)\n",
    "        \n",
    "        \n",
    "class Hello023Strategy(Strategy):\n",
    "    def execute(self):\n",
    "        print(\"Hello, Б05-023!\", file=sys.stderr)"
   ]
  },
  {
   "cell_type": "code",
   "execution_count": 9,
   "id": "wooden-yield",
   "metadata": {},
   "outputs": [
    {
     "name": "stdout",
     "output_type": "stream",
     "text": [
      "Before Strategy call\n"
     ]
    },
    {
     "name": "stderr",
     "output_type": "stream",
     "text": [
      "Hello, World!\n",
      "After Strategy call\n"
     ]
    }
   ],
   "source": [
    "context = Context(HelloWorldStrategy())\n",
    "context.do_something()"
   ]
  },
  {
   "cell_type": "code",
   "execution_count": 10,
   "id": "tropical-clear",
   "metadata": {},
   "outputs": [
    {
     "name": "stdout",
     "output_type": "stream",
     "text": [
      "Before Strategy call\n"
     ]
    },
    {
     "name": "stderr",
     "output_type": "stream",
     "text": [
      "Hello, Б05-021!\n",
      "After Strategy call\n"
     ]
    }
   ],
   "source": [
    "context.strategy = Hello021Strategy()\n",
    "context.do_something()"
   ]
  },
  {
   "cell_type": "code",
   "execution_count": 11,
   "id": "awful-wesley",
   "metadata": {},
   "outputs": [
    {
     "name": "stdout",
     "output_type": "stream",
     "text": [
      "Before Strategy call\n"
     ]
    },
    {
     "name": "stderr",
     "output_type": "stream",
     "text": [
      "Hello, Б05-022!\n",
      "After Strategy call\n"
     ]
    }
   ],
   "source": [
    "context.strategy = Hello022Strategy()\n",
    "context.do_something()"
   ]
  },
  {
   "cell_type": "code",
   "execution_count": 12,
   "id": "considerable-international",
   "metadata": {},
   "outputs": [
    {
     "name": "stdout",
     "output_type": "stream",
     "text": [
      "Before Strategy call\n"
     ]
    },
    {
     "name": "stderr",
     "output_type": "stream",
     "text": [
      "Hello, Б05-023!\n",
      "After Strategy call\n"
     ]
    }
   ],
   "source": [
    "context.strategy = Hello023Strategy()\n",
    "context.do_something()"
   ]
  },
  {
   "cell_type": "markdown",
   "id": "educated-contest",
   "metadata": {},
   "source": [
    "### Плюсы\n",
    "\n",
    " * подмена алгоритмов на лету\n",
    " * изоляция код и данных алгоритмов от “интерфейсной” части\n",
    " * переход к делегированию ответственности\n",
    " * надо написать новую часть алгоритма - можно отнаследоваться (аналогично Chain of Responsibility)\n",
    "\n",
    "### Минусы\n",
    "\n",
    " * много классов (ну куда же без этого)\n",
    " * необходимо разбираться во всех этих классах: кто что делает (обычно правильные именования позволяют этого избегать)"
   ]
  },
  {
   "cell_type": "markdown",
   "id": "baking-maine",
   "metadata": {},
   "source": [
    "---"
   ]
  },
  {
   "cell_type": "markdown",
   "id": "systematic-uganda",
   "metadata": {},
   "source": [
    "## Template Method"
   ]
  },
  {
   "cell_type": "markdown",
   "id": "rational-ghana",
   "metadata": {},
   "source": [
    "### Задачи (проблемы). Примеры  \n",
    " 1. Часть вашего алгоритма содержит платформо-зависимый код(например, код создания файла в системе и небольшого свопа в него). Таких шагов алгоритма несколько и внесение директив на каждом крайне увеличивает объём кода.  \n",
    " 2. Вы пишете программу для дата-майнинга в офисных документах в разных форматах: PDF, DOC, CSV. Программа должна извлекать из них полезную информацию. В какой-то момент вы заметили, что код всех трёх классов обработки документов хоть и отличается в части работы с файлами, но содержат довольно много общего в части самого извлечения данных. Было бы здорово избавится от повторной реализации алгоритма извлечения данных в каждом из классов.\n",
    " 3. Разрабатываете игру с персонажами различных классов. Необходимо задать поведение этих героев, например, поведение при езде верхом или обращение с лассо или стрельбу из пулемета. Одинаково ли они должны все это делать?\n",
    "  \n",
    "Говоря человеческим языком, нам сперва необходимо задать скелет рабочей программы, а после его обращивать мясом.    \n",
    "  \n",
    "Более профессионально: необходимо организовать предоставление доступа к добавлению своей функциональности к некоторой части общего алгоритма путем переопределения некоторой зоны ответственности."
   ]
  },
  {
   "cell_type": "markdown",
   "id": "transsexual-reality",
   "metadata": {},
   "source": [
    "### Решение  \n",
    "Давайте разобъем алгоритм на последовательность шагов, опишем эти шаги в отдельных методах и будем вызывать их в одном шаблонном методе друг за другом.  \n",
    "  \n",
    "Это позволит подклассам переопределять некоторые шаги алгоритма, оставляя без изменений его структуру и остальные шаги, которые для этого подкласса не так важны."
   ]
  },
  {
   "cell_type": "markdown",
   "id": "quality-algorithm",
   "metadata": {},
   "source": [
    "![template-method](uml/template-method.png)"
   ]
  },
  {
   "cell_type": "code",
   "execution_count": 13,
   "id": "academic-flour",
   "metadata": {},
   "outputs": [],
   "source": [
    "from abc import ABC\n",
    "from abc import abstractmethod\n",
    "import sys\n",
    "\n",
    "\n",
    "class AbstractMiner(ABC):\n",
    "\n",
    "    def template_run_file_mining(self, filename):\n",
    "        if self.is_accesable(filename):\n",
    "            self.notify_started_processing(filename)\n",
    "            self.process(filename)\n",
    "            self.notify_finished_processing(filename)\n",
    "        else:\n",
    "            self.notify_inaccesable_file(filename)\n",
    "            \n",
    "    def notify_started_processing(self, filename):\n",
    "        print(f\"File {filename} is being processing\", file=sys.stdout)\n",
    "        \n",
    "    def notify_finished_processing(self, filename):\n",
    "        print(f\"File {filename} has being processed\", file=sys.stdout)\n",
    "        \n",
    "    def notify_inaccesable_file(self, filename):\n",
    "        print(f\"File {filename} is not accesable\", file=sys.stderr)\n",
    "            \n",
    "    @abstractmethod\n",
    "    def is_accesable(self, filename) -> None:\n",
    "        pass\n",
    "\n",
    "    @abstractmethod\n",
    "    def process(self, filename) -> None:\n",
    "        pass\n",
    "\n",
    "\n",
    "class PdfMiner(AbstractMiner):\n",
    "\n",
    "    def is_accesable(self, filename) -> None:\n",
    "        return True\n",
    "\n",
    "    def process(self, filename) -> None:\n",
    "        print(f\">> PDF file {filename} is being mining\")\n",
    "    \n",
    "    \n",
    "class DocMiner(AbstractMiner):\n",
    "    \n",
    "    def is_accesable(self, filename) -> None:\n",
    "        return False\n",
    "\n",
    "    def process(self, filename) -> None:\n",
    "        print(f\">> DOC file {filename} is being mining\")\n",
    "    \n",
    "\n",
    "class CsvMiner(AbstractMiner):\n",
    "    \n",
    "    def is_accesable(self, filename) -> None:\n",
    "        return True\n",
    "\n",
    "    def process(self, filename) -> None:\n",
    "        print(f\">> CVS file {filename} is being mining\")"
   ]
  },
  {
   "cell_type": "code",
   "execution_count": 14,
   "id": "overhead-plain",
   "metadata": {},
   "outputs": [
    {
     "name": "stdout",
     "output_type": "stream",
     "text": [
      "File file.pdf is being processing\n",
      ">> PDF file file.pdf is being mining\n",
      "File file.pdf has being processed\n"
     ]
    }
   ],
   "source": [
    "PdfMiner().template_run_file_mining(\"file.pdf\")"
   ]
  },
  {
   "cell_type": "code",
   "execution_count": 15,
   "id": "engaged-narrative",
   "metadata": {},
   "outputs": [
    {
     "name": "stderr",
     "output_type": "stream",
     "text": [
      "File file.doc is not accesable\n"
     ]
    }
   ],
   "source": [
    "DocMiner().template_run_file_mining(\"file.doc\")"
   ]
  },
  {
   "cell_type": "code",
   "execution_count": 16,
   "id": "plain-prefix",
   "metadata": {},
   "outputs": [
    {
     "name": "stdout",
     "output_type": "stream",
     "text": [
      "File file.csv is being processing\n",
      ">> CVS file file.csv is being mining\n",
      "File file.csv has being processed\n"
     ]
    }
   ],
   "source": [
    "CsvMiner().template_run_file_mining(\"file.csv\")"
   ]
  },
  {
   "cell_type": "markdown",
   "id": "skilled-print",
   "metadata": {},
   "source": [
    "### Плюсы\n",
    "\n",
    " * решает DRY (Don't Repeate Youself), т.е. облегчает повторное использование кода\n",
    "\n",
    "### Минусы\n",
    "\n",
    " * жёстко ограничены скелетом существующего алгоритма\n",
    " * с ростом количества шагов шаблонный метод становится слишком сложно поддерживать"
   ]
  },
  {
   "cell_type": "markdown",
   "id": "extensive-result",
   "metadata": {},
   "source": [
    "Проведите сравнение Стратегии и Шаблонного Метода."
   ]
  }
 ],
 "metadata": {
  "kernelspec": {
   "display_name": "Python 3",
   "language": "python",
   "name": "python3"
  },
  "language_info": {
   "codemirror_mode": {
    "name": "ipython",
    "version": 3
   },
   "file_extension": ".py",
   "mimetype": "text/x-python",
   "name": "python",
   "nbconvert_exporter": "python",
   "pygments_lexer": "ipython3",
   "version": "3.8.6"
  }
 },
 "nbformat": 4,
 "nbformat_minor": 5
}
