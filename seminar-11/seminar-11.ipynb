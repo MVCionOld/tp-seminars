{
 "cells": [
  {
   "cell_type": "code",
   "execution_count": 1,
   "id": "working-workplace",
   "metadata": {},
   "outputs": [],
   "source": [
    "from IPython.core.interactiveshell import InteractiveShell\n",
    "InteractiveShell.ast_node_interactivity = \"all\""
   ]
  },
  {
   "cell_type": "markdown",
   "id": "severe-worthy",
   "metadata": {},
   "source": [
    "# Поведенческие паттерны  \n",
    "  \n",
    "  \n",
    "### Определяют алгоритмы и способы реализации взаимодействия различных объектов и классов."
   ]
  },
  {
   "cell_type": "markdown",
   "id": "cellular-africa",
   "metadata": {},
   "source": [
    "* Chain of Responsibility\n",
    "* __Command__\n",
    "* Iterator\n",
    "* __Mediator__\n",
    "* Memento\n",
    "* __Observer__\n",
    "* State\n",
    "* Strategy\n",
    "* Template Method\n",
    "* Visitor"
   ]
  },
  {
   "cell_type": "markdown",
   "id": "sorted-singing",
   "metadata": {},
   "source": [
    "---"
   ]
  },
  {
   "cell_type": "markdown",
   "id": "subtle-python",
   "metadata": {},
   "source": [
    "## Command"
   ]
  },
  {
   "cell_type": "markdown",
   "id": "american-looking",
   "metadata": {},
   "source": [
    "### Задача  \n",
    "  \n",
    "Вы разрабатываете текстовый редактор. Существует несколько способов скопировать, вырезать, вставить часть текста и тд, включая шорткаты Ctrl+C / Ctrl+X / Ctrl+V, стандартная верхняя функциональная панель, функциональное меню по клику мышки. Возникает вопрос: куда поместить код обработчиков кликов по этим кнопкам/шорткатам?  \n",
    "  \n",
    "Допустим, мы нашли решение. Но теперь мы хотим логгировать выполнение тех или иных действий в нашем интерфейсе. Более того, возникла потребность наши действия:\n",
    "  * отменять\n",
    "  * ставить в очередь\n",
    "  * отложенный вызов действия\n",
    "  \n",
    "Подходит ли предложенное Вами решение теперь? Что плохо применяется в предложенную Вами парадигму?  \n",
    "  \n",
    "Давайте подумаем, а должна ли кнопка интерфейса иметь прямой доступ к данным (тексту)? Если Вы спроектировали таким образом, что прямого доступа нет, то Вы - молодец, а если нет, то давайте убирать зависимость между программным модулем, порождающим действие и модулем, выполняющем его (low coupling)."
   ]
  },
  {
   "cell_type": "markdown",
   "id": "going-variety",
   "metadata": {},
   "source": [
    "### Решение  \n",
    "  \n",
    "Каждый вызов, отличающийся от других, следует завернуть в собственный класс с единственным методом, который и будет осуществлять вызов. Такие объекты называют _командами_.\n",
    "\n",
    "К объекту интерфейса можно будет привязать объект команды, который знает, кому и в каком виде следует отправлять запросы. Когда объект интерфейса будет готов передать запрос, он вызовет метод команды, а та — позаботится обо всём остальном.  \n",
    "  \n",
    "При нажатии кнопки будут делегировать работу связанным командам, а команды — перенаправлять вызовы тем или иным объектам бизнес-логики.\n",
    "\n",
    "Так же можно поступить и с контекстным меню, и с горячими клавишами. Они будут привязаны к тем же объектам команд, что и кнопки, избавляя классы от дублирования."
   ]
  },
  {
   "cell_type": "markdown",
   "id": "transparent-transition",
   "metadata": {},
   "source": [
    "![command](uml/command.png)\n",
    "  \n",
    "Отправитель (Invoker) ссылается на Команду (кнопка хранит ссылку на объект команды). Invoker работает со своей командой исключительно через общий Команды (т.е. не знает с какой конкретной Командой работает). \n",
    "Обычно команда не выполняет самостоятельно, а лишь передаёт вызов получателю, которым является один из объектов бизнес-логики (Receiver).\n",
    "Клиент связывает объекты отправителей с созданными командами, а созданных командах опеределяет параметры и сам Receiver: \n",
    "```js\n",
    "invoker.executeCommand() \n",
    "    -> invoker.command.execute() \n",
    "        -> invoker.command.receiver.operation(invoker.command.params)\n",
    "            -> ... // конкретно бизнесс-логика\n",
    "```"
   ]
  },
  {
   "cell_type": "code",
   "execution_count": 18,
   "id": "endless-authentication",
   "metadata": {},
   "outputs": [],
   "source": [
    "import abc\n",
    "import sys\n",
    "\n",
    "\n",
    "class Receiver(metaclass=abc.ABCMeta):\n",
    "    @abc.abstractmethod\n",
    "    def operation(self, *args, **kwargs):\n",
    "        pass\n",
    "\n",
    "\n",
    "class StdoutNotificationReceiver(Receiver):\n",
    "    def operation(self, *args, **kwargs):\n",
    "        print(args, kwargs, file=sys.stdout, flush=True)\n",
    "        \n",
    "        \n",
    "class StderrNotificationReceiver(Receiver):\n",
    "    def operation(self, *args, **kwargs):\n",
    "        print(args, kwargs, file=sys.stderr, flush=True)\n",
    "\n",
    "\n",
    "class TextBuffer:\n",
    "    args = []\n",
    "    kwargs = {}\n",
    "\n",
    "\n",
    "class Invoker:\n",
    "    def set_command(self, command):\n",
    "        self._command = command\n",
    "\n",
    "    def execute_command(self):\n",
    "        self._command.execute()\n",
    "        \n",
    "    def handle(self):\n",
    "        self.execute_command()\n",
    "\n",
    "\n",
    "class StdoutInvoker(Invoker):\n",
    "    pass\n",
    "\n",
    "\n",
    "class StderrInvoker(Invoker):\n",
    "    pass\n",
    "\n",
    "\n",
    "class Command(metaclass=abc.ABCMeta):\n",
    "    def __init__(self, receiver: Receiver):\n",
    "        self._receiver = receiver\n",
    "\n",
    "    @abc.abstractmethod\n",
    "    def execute(self):\n",
    "        pass\n",
    "\n",
    "\n",
    "class ConcreteCommand(Command):\n",
    "    def execute(self):\n",
    "        args = TextBuffer.args\n",
    "        kwargs = TextBuffer.kwargs\n",
    "        self._receiver.operation(*args, **kwargs)\n",
    "\n",
    "\n",
    "class StdoutCommand(ConcreteCommand):\n",
    "    pass\n",
    "\n",
    "\n",
    "class StderrCommand(ConcreteCommand):\n",
    "    pass"
   ]
  },
  {
   "cell_type": "code",
   "execution_count": 19,
   "id": "guilty-carrier",
   "metadata": {},
   "outputs": [
    {
     "name": "stdout",
     "output_type": "stream",
     "text": [
      "() {}\n"
     ]
    },
    {
     "name": "stderr",
     "output_type": "stream",
     "text": [
      "() {}\n"
     ]
    },
    {
     "name": "stdout",
     "output_type": "stream",
     "text": [
      "(3, 1, 4) {}\n"
     ]
    },
    {
     "name": "stderr",
     "output_type": "stream",
     "text": [
      "(3, 1, 4) {}\n"
     ]
    },
    {
     "name": "stdout",
     "output_type": "stream",
     "text": [
      "(3, 1, 4) {'a': 2, 'b': 42}\n"
     ]
    },
    {
     "name": "stderr",
     "output_type": "stream",
     "text": [
      "(3, 1, 4) {'a': 2, 'b': 42}\n"
     ]
    }
   ],
   "source": [
    "out_receiver = StdoutNotificationReceiver()\n",
    "stdout_command = StdoutCommand(out_receiver)\n",
    "stdout_invoker = StdoutInvoker()\n",
    "stdout_invoker.set_command(stdout_command)\n",
    "\n",
    "err_receiver = StderrNotificationReceiver()\n",
    "stderr_command = StderrCommand(err_receiver)\n",
    "stderr_invoker = StderrInvoker()\n",
    "stderr_invoker.set_command(stderr_command)\n",
    "\n",
    "stdout_invoker.handle()\n",
    "stderr_invoker.handle()\n",
    "\n",
    "TextBuffer.args.extend([3, 1, 4])\n",
    "\n",
    "stdout_invoker.handle()\n",
    "stderr_invoker.handle()\n",
    "\n",
    "TextBuffer.kwargs.update(a=2, b=42)\n",
    "\n",
    "stdout_invoker.handle()\n",
    "stderr_invoker.handle()"
   ]
  },
  {
   "cell_type": "markdown",
   "id": "ranging-beauty",
   "metadata": {},
   "source": [
    "### Плюсы\n",
    "\n",
    " * убираем связь между отправителем и получателем\n",
    " * простая отмена и повтор операций\n",
    " * отложенный запуск операций\n",
    " * можно наследовать команды\n",
    " * команды можно сохранять\n",
    "\n",
    "### Минусы\n",
    "\n",
    " * много классов"
   ]
  },
  {
   "cell_type": "markdown",
   "id": "sustained-mediterranean",
   "metadata": {},
   "source": [
    "---"
   ]
  },
  {
   "cell_type": "markdown",
   "id": "explicit-expense",
   "metadata": {},
   "source": [
    "## Mediator"
   ]
  },
  {
   "cell_type": "markdown",
   "id": "adolescent-puppy",
   "metadata": {},
   "source": [
    "### Задачa\n",
    "\n",
    "Вернемся к разработке графических пользовательских интерфейсов.  \n",
    "  \n",
    "Вы создаёте сайт, имеющий сложную модель поведения. Например, при нажатии некоторых кнопок, появляется окно регистрации/входа. При проведении в открытом окне входа — меняется плашка с именем пользователя. По нажатию на кнопку “выход” — она снова переводится в исходное состояние и так далее.  \n",
    "Связей в одном окне достаточно много и передача запросов оказывается крайне запутанной.\n",
    "\n",
    "\n",
    "Основные проблемы с которыми мы сталкиваемся:  \n",
    " * Хаос в классах и их связях\n",
    " * Такая сильная связанность может перерости на сильную связанность модулей \n",
    " * Сложно повторно использовать класс из-за огромного числа связей\n",
    " * Сложность тестирования"
   ]
  },
  {
   "cell_type": "markdown",
   "id": "norwegian-model",
   "metadata": {},
   "source": [
    "### Решение  \n",
    "  \n",
    "Давайте организацию общение классов сделем не напрямую друг с другом, а через отдельный объект-посредник, который знает, кому нужно перенаправить тот или иной запрос. Благодаря этому, компоненты системы будут зависеть только от посредника, а не от десятков других компонентов."
   ]
  },
  {
   "cell_type": "markdown",
   "id": "improving-brisbane",
   "metadata": {},
   "source": [
    "![mediator](uml/mediator.png)\n",
    "\n",
    " * Каждый компонент хранит ссылку на объект посредника, но работает с ним только через абстрактный интерфейс посредников.  \n",
    " * В параметрах метода ```notify``` можно передавать детали события: ссылку на компонент, в котором оно произошло, и любые другие данные.  \n",
    " * Компоненты не должны общаться друг с другом напрямую. Если в компоненте происходит важное событие, он должен оповестить своего посредника, а тот сам решит — касается ли событие других компонентов, и стоит ли их оповещать. При этом компонент-отправитель не знает кто обработает его запрос, а компонент-получатель не знает кто его прислал."
   ]
  },
  {
   "cell_type": "markdown",
   "id": "short-warning",
   "metadata": {},
   "source": [
    "### Плюсы\n",
    "\n",
    " * Распутывает зависимости между компонентами программы\n",
    " * Централизует управление, позволяет соблюдать SRP\n",
    " * Позволяет повторное использование\n",
    " * Упрощает тестрование\n",
    " \n",
    "### Минусы\n",
    "\n",
    " * GOD Object"
   ]
  },
  {
   "cell_type": "markdown",
   "id": "mineral-shepherd",
   "metadata": {},
   "source": [
    "---"
   ]
  },
  {
   "cell_type": "markdown",
   "id": "alleged-liechtenstein",
   "metadata": {},
   "source": [
    "## Observer"
   ]
  },
  {
   "cell_type": "markdown",
   "id": "civil-weather",
   "metadata": {},
   "source": [
    "### Задача\n",
    "\n",
    "На ютубе появилось множество опций для подписки на канал: обычная подписка (новые материалы отражаются в отдельной вкладке), “колокольчик” с опциями “не оповещать” (тогда сообщение о новых видео появляется при входе на сайт) и “оповещать” (приходят пуш-уведомления).  \n",
    "Необходимо реализовать данные модели взаимодействия"
   ]
  },
  {
   "cell_type": "markdown",
   "id": "invisible-royal",
   "metadata": {},
   "source": [
    "### Решение  \n",
    "\n",
    "Список подписчиков составляется динамически, объекты могут как подписываться на определённые события, так и отписываться от них прямо во время выполнения программы через `EventManager`.\n",
    "\n",
    "При такой реализации издатель не ведёт список подписчиков самостоятельно, а делегирует это отдельному объекту `EventManager`.\n",
    "  \n",
    "Для добавления в программу новых подписчиков не нужно менять классы издателей, пока они работают с подписчиками через общий интерфейс."
   ]
  },
  {
   "cell_type": "markdown",
   "id": "moderate-italic",
   "metadata": {},
   "source": [
    "![observer](uml/observer.png)"
   ]
  },
  {
   "cell_type": "markdown",
   "id": "educated-contest",
   "metadata": {},
   "source": [
    "### Плюсы\n",
    "\n",
    " * Издатели не зависят от конкретных классов подписчиков и наоборот\n",
    " * Подхватывать и отписывать объекты на лету"
   ]
  },
  {
   "cell_type": "markdown",
   "id": "baking-maine",
   "metadata": {},
   "source": [
    "---"
   ]
  },
  {
   "cell_type": "markdown",
   "id": "threaded-certificate",
   "metadata": {},
   "source": [
    "**Сравните** ``"
   ]
  }
 ],
 "metadata": {
  "kernelspec": {
   "display_name": "Python 3",
   "language": "python",
   "name": "python3"
  },
  "language_info": {
   "codemirror_mode": {
    "name": "ipython",
    "version": 3
   },
   "file_extension": ".py",
   "mimetype": "text/x-python",
   "name": "python",
   "nbconvert_exporter": "python",
   "pygments_lexer": "ipython3",
   "version": "3.8.6"
  }
 },
 "nbformat": 4,
 "nbformat_minor": 5
}
