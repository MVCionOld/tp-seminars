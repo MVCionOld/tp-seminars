{
 "cells": [
  {
   "cell_type": "code",
   "execution_count": 1,
   "id": "working-workplace",
   "metadata": {},
   "outputs": [],
   "source": [
    "from IPython.core.interactiveshell import InteractiveShell\n",
    "InteractiveShell.ast_node_interactivity = \"all\""
   ]
  },
  {
   "cell_type": "markdown",
   "id": "severe-worthy",
   "metadata": {},
   "source": [
    "# Поведенческие паттерны  \n",
    "  \n",
    "  \n",
    "### Определяют алгоритмы и способы реализации взаимодействия различных объектов и классов."
   ]
  },
  {
   "cell_type": "markdown",
   "id": "cellular-africa",
   "metadata": {},
   "source": [
    "* Chain of Responsibility\n",
    "* Command\n",
    "* Iterator\n",
    "* Mediator\n",
    "* __Memento__\n",
    "* Observer\n",
    "* __State__\n",
    "* Strategy\n",
    "* Template Method\n",
    "* __Visitor__"
   ]
  },
  {
   "cell_type": "markdown",
   "id": "sorted-singing",
   "metadata": {},
   "source": [
    "---"
   ]
  },
  {
   "cell_type": "markdown",
   "id": "subtle-python",
   "metadata": {},
   "source": [
    "## Memento"
   ]
  },
  {
   "cell_type": "markdown",
   "id": "american-looking",
   "metadata": {},
   "source": [
    "### Задачи\n",
    "  \n",
    "  1. Вы создаёте IDE с возможностью сохранять этапы проекта (например, в виде diff-а) и, если нужно, откатываться до них (некая система контроля версий на минималках).\n",
    "  2. При обновлении своей ОС (или при переносе ее на другое устройство) вы делаете backup.\n",
    "  3. В компьютерных играх необходимо время от времени сохранять ваш прогресс - так называемые \"чекпоинты\".\n",
    "  \n",
    "Во всех случаях задача стоит следующая: \"сохранить и/или восстановить прошлые состояния объектов, не раскрывая их подробности реализации, т.е. не нарушая инкапсуляцию\"."
   ]
  },
  {
   "cell_type": "markdown",
   "id": "going-variety",
   "metadata": {},
   "source": [
    "### Решение  \n",
    "  \n",
    "Давайте поручим создание копии состояния объекта `Originator` самому этому объекту, который этим состоянием владеет. Вместо того, чтобы делать снимок «извне», наш объект сам сделает копию своих полей, ведь ему доступны все поля, даже приватные. **Kакой порождающий паттерн это Вам напоминает?**  \n",
    "  \n",
    "Дополнительно давайте создадим специальное хранилище (`Caretaker`), которое как раз и будет держать копию состояния в специальном объекте-снимке. С другой стороны, снимок (`Memento`) должен быть открыт для своего создателя `Originator`, позволяя прочесть и восстановить его внутреннее состояние, т.е. клиентский код посредством обращения к `Caretaker` может откатить состояние `Originator` на какое-то из прошлых (тут уже вступает в силу Ваша бизнесс-логика)."
   ]
  },
  {
   "cell_type": "markdown",
   "id": "transparent-transition",
   "metadata": {},
   "source": [
    "![memento](uml/memento.png)"
   ]
  },
  {
   "cell_type": "markdown",
   "id": "ranging-beauty",
   "metadata": {},
   "source": [
    "### Плюсы\n",
    "\n",
    " * не нарушает инкапсуляции\n",
    " * объекту не надо самому хранить историю версий\n",
    "\n",
    "### Минусы\n",
    "\n",
    " * на хранение истории списков может потребоваться много памяти\n",
    " * надо не забывать чистить слишком старые снимки"
   ]
  },
  {
   "cell_type": "markdown",
   "id": "sustained-mediterranean",
   "metadata": {},
   "source": [
    "---"
   ]
  },
  {
   "cell_type": "markdown",
   "id": "explicit-expense",
   "metadata": {},
   "source": [
    "## State"
   ]
  },
  {
   "cell_type": "markdown",
   "id": "adolescent-puppy",
   "metadata": {},
   "source": [
    "### Задачa\n",
    "\n",
    "Механика получения сообщений в приложении соцсети меняется в зависимости от того, в каком состоянии оно находится в телефоне.\n",
    "  * Если приложение закрыто — приходит пуш-уведомление\n",
    "  * Если открыто — новое сообщение появляется в блоке сообщений\n",
    "  * Если свёрнуто — телефон просто издаёт звуковой сигнал\n",
    "  \n",
    "Случаи применения:\n",
    "  * Объект, поведение которого кардинально меняется от состояния\n",
    "  * Много похожих if-ов, где выбирается поведение\n",
    "  \n",
    "**Kакой поведенческий паттерн это Вам напоминает? Почему он не решает эту задачу?**"
   ]
  },
  {
   "cell_type": "markdown",
   "id": "norwegian-model",
   "metadata": {},
   "source": [
    "### Решение  \n",
    "  \n",
    "Паттерн Состояние предлагает создать отдельные классы для каждого состояния, в котором может пребывать объект, а затем вынести туда поведения, соответствующие этим состояниям.  \n",
    "  \n",
    "Вместо того, чтобы хранить код всех состояний, первоначальный объект, называемый контекстом, будет содержать ссылку на один из объектов-состояний и делегировать ему работу, зависящую от состояния."
   ]
  },
  {
   "cell_type": "markdown",
   "id": "improving-brisbane",
   "metadata": {},
   "source": [
    "![state](uml/state.png)\n",
    "  \n",
    "Очень важным нюансом, отличающим этот паттерн от Стратегии, является то, что и контекст, и сами конкретные состояния могут знать друг о друге и инициировать переходы от одного состояния к другому (объект может переключать свое состояние, а в Strategy такой возможности просто нет!)."
   ]
  },
  {
   "cell_type": "markdown",
   "id": "short-warning",
   "metadata": {},
   "source": [
    "### Плюсы\n",
    "\n",
    "  * Избегаем много if-ов\n",
    "  * Концентрация кода по одному состоянию\n",
    "  * Упрощение кода в целом\n",
    " \n",
    "### Минусы\n",
    "\n",
    " * Не надо делать, когда условия совсем простые"
   ]
  },
  {
   "cell_type": "markdown",
   "id": "mineral-shepherd",
   "metadata": {},
   "source": [
    "---"
   ]
  },
  {
   "cell_type": "markdown",
   "id": "alleged-liechtenstein",
   "metadata": {},
   "source": [
    "## Visitor"
   ]
  },
  {
   "cell_type": "markdown",
   "id": "civil-weather",
   "metadata": {},
   "source": [
    "### Задача\n",
    "\n",
    "Вы реализуете приложение для доставки еды и продуктов.  \n",
    "В нём есть несколько типов пользователей — администратор, курьер и клиент и несколько типов заведений — склад, ресторан, магазин. При этом поведение каждого пользователя в зависимости от заведения различно и наоборот."
   ]
  },
  {
   "cell_type": "markdown",
   "id": "invisible-royal",
   "metadata": {},
   "source": [
    "### Решение  \n",
    "\n",
    "Паттерн Посетитель предлагает разместить новое поведение в отдельном классе, вместо того чтобы множить его сразу в нескольких классах. Объекты, с которыми должно было быть связано поведение, не будут выполнять его самостоятельно. Вместо этого вы будете передавать эти объекты в методы посетителя.  \n",
    "  \n",
    "Код поведения, скорее всего, должен отличаться для объектов разных классов, поэтому и методов у посетителя должно быть несколько. Названия и принцип действия этих методов будет схож, но основное отличие будет в типе принимаемого в параметрах объекта, например:\n",
    "\n",
    "```c++\n",
    "class AdminVisitor {\n",
    "  public:\n",
    "    void VisitWarehouse(Warehouse& warehouse);\n",
    "    void VisitRestaurant(Restaurant& restaraunt);\n",
    "    void VisitShop(Shop& shop);\n",
    "    ...\n",
    "}\n",
    "```\n",
    "  \n",
    "Здесь возникает вопрос: как подавать узлы в объект-посетитель? Так как все методы имеют отличающуюся сигнатуру, использовать полиморфизм при выборе помещения не получится. Придётся проверять тип узлов для того, чтобы выбрать соответствующий метод посетителя:\n",
    "\n",
    "```c++\n",
    "void Previsit(Visitor* visitor, Placement* placement) {\n",
    "    if (reflection::IsInstanceOf(*placement, Warehouse)) {\n",
    "        visitor.VisitWarehouse(*placement);\n",
    "    } else if (reflection::IsInstanceOf(*placement, Restaurant)) {\n",
    "        visitor.VisitRestaurant(*placement);\n",
    "    } else if (reflection::IsInstanceOf(*placement, Shop)) {\n",
    "        visitor.VisitShop(*placement);\n",
    "    } else {\n",
    "        throw new LogicalException(...);\n",
    "    }\n",
    "}\n",
    "```\n",
    "\n",
    "Но паттерн Посетитель решает и эту проблему, используя механизм _двойной диспетчеризации_. Вместо того, чтобы самим искать нужный метод, мы можем поручить это объектам, которые передаём в параметрах посетителю. А они уже вызовут правильный метод посетителя.\n",
    "\n",
    "```c++\n",
    "class AdminVisitor {\n",
    "  public:\n",
    "    void Visit(Warehouse& warehouse);\n",
    "    void Visit(Restaurant& restaraunt);\n",
    "    void Visit(Shop& shop);\n",
    "    ...\n",
    "}\n",
    "\n",
    "class Placement {\n",
    "  public:\n",
    "    void Accept(Visitor& visitor) {\n",
    "        visitor.Visit(this);   \n",
    "    }\n",
    "    ...\n",
    "}\n",
    "\n",
    "class Warehouse: public Placement { ... };\n",
    "    \n",
    "class Restaurant: public Placement { ... };\n",
    "    \n",
    "class Shop: public Placement { ... };\n",
    "\n",
    "...\n",
    "\n",
    "void SomeBusinessLogin() {\n",
    "    ...\n",
    "    Placement* placent = GetPlacementFromSomewhere(...);\n",
    "    AdminVisitor adminVisitor;\n",
    "    placent->Accept(adminVisitor);\n",
    "    ...\n",
    "}\n",
    "```"
   ]
  },
  {
   "cell_type": "markdown",
   "id": "moderate-italic",
   "metadata": {},
   "source": [
    "![visitor](uml/visitor.png)"
   ]
  },
  {
   "cell_type": "markdown",
   "id": "educated-contest",
   "metadata": {},
   "source": [
    "### Плюсы\n",
    "\n",
    " * Издатели не зависят от конкретных классов подписчиков и наоборот\n",
    " * Подхватывать и отписывать объекты на лету"
   ]
  },
  {
   "cell_type": "markdown",
   "id": "baking-maine",
   "metadata": {},
   "source": [
    "---"
   ]
  }
 ],
 "metadata": {
  "kernelspec": {
   "display_name": "Python 3",
   "language": "python",
   "name": "python3"
  },
  "language_info": {
   "codemirror_mode": {
    "name": "ipython",
    "version": 3
   },
   "file_extension": ".py",
   "mimetype": "text/x-python",
   "name": "python",
   "nbconvert_exporter": "python",
   "pygments_lexer": "ipython3",
   "version": "3.8.6"
  }
 },
 "nbformat": 4,
 "nbformat_minor": 5
}
